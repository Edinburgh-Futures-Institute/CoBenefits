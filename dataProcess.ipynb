{
 "cells": [
  {
   "cell_type": "code",
   "execution_count": 1,
   "id": "e9b8b784-58f3-4941-8e42-c09d5408aff6",
   "metadata": {
    "tags": []
   },
   "outputs": [],
   "source": [
    "import pandas as pd\n",
    "import numpy as np\n",
    "import duckdb"
   ]
  },
  {
   "cell_type": "code",
   "execution_count": 2,
   "id": "1b417c7a-7749-48ee-a781-8e09db8078c6",
   "metadata": {
    "tags": []
   },
   "outputs": [],
   "source": [
    "data_folder = \"staticNotDeployed/\""
   ]
  },
  {
   "cell_type": "code",
   "execution_count": 3,
   "id": "4271c94f-a61c-4fb8-92c5-9afbb9a359cc",
   "metadata": {
    "tags": []
   },
   "outputs": [],
   "source": [
    "scenario_BNZ_path = \"simulations_new/BNZ.csv\"\n",
    "scenario_holder_path = \"simulations_new/BNZ.csv\"\n",
    "\n",
    "all_scenarios = [scenario_BNZ_path, scenario_holder_path]\n",
    "scenario_names = [\"BNZ\", \"test\"]"
   ]
  },
  {
   "cell_type": "markdown",
   "id": "4a9b775e-e335-40fc-b8aa-0afe6499fa37",
   "metadata": {
    "tags": []
   },
   "source": [
    "## Create pandas tables"
   ]
  },
  {
   "cell_type": "code",
   "execution_count": 4,
   "id": "a078d3c7-eeac-4b55-b321-3605b7d02ebf",
   "metadata": {
    "tags": []
   },
   "outputs": [],
   "source": [
    "dfs = []\n",
    "for i, scenario in enumerate(all_scenarios):\n",
    "    df_one_scenario = pd.read_csv(data_folder + scenario)\n",
    "    df_one_scenario[\"scenario\"] = scenario_names[i]\n",
    "    dfs.append(df_one_scenario)\n",
    "df = pd.concat(dfs, axis=0)\n",
    "del dfs "
   ]
  },
  {
   "cell_type": "code",
   "execution_count": 5,
   "id": "d0a0f874-3f17-4546-9bc4-9435b98d2b47",
   "metadata": {
    "tags": []
   },
   "outputs": [],
   "source": [
    "# Create total column\n",
    "df[\"total (£m)\"] = df[ [ f'{i} (£m)' for i in range(2025, 2051)]].sum(axis=1)"
   ]
  },
  {
   "cell_type": "code",
   "execution_count": 6,
   "id": "4b06526b-efb0-4900-977f-834f2fda69a9",
   "metadata": {
    "tags": []
   },
   "outputs": [],
   "source": [
    "# Delete all the columns per hh, only keep total value columns\n",
    "df = df.drop(columns=[ f'{i} (£/hh)' for i in range(2025, 2051)])"
   ]
  },
  {
   "cell_type": "code",
   "execution_count": 7,
   "id": "4f8268a5-4fe4-4f03-9b20-e01c236b3bee",
   "metadata": {
    "tags": []
   },
   "outputs": [],
   "source": [
    "# Convert float64 to float32\n",
    "df[df.select_dtypes(np.float64).columns] = df.select_dtypes(np.float64).astype(np.float32)"
   ]
  },
  {
   "cell_type": "code",
   "execution_count": 8,
   "id": "201c1121-81c9-4d68-be97-6804b9853b2d",
   "metadata": {
    "tags": []
   },
   "outputs": [],
   "source": [
    "# Rename columns so it does not contain special characters\n",
    "df.columns = df.columns.str.replace(' (£m)', '')"
   ]
  },
  {
   "cell_type": "code",
   "execution_count": 9,
   "id": "0635128b-b78f-48b0-b744-4018e2b65423",
   "metadata": {
    "tags": []
   },
   "outputs": [],
   "source": [
    "# Rename columns: replace spaces with underscores\n",
    "# df.columns = df.columns.str.replace(' ', '_')"
   ]
  },
  {
   "cell_type": "code",
   "execution_count": 10,
   "id": "cc8db01f-303e-4646-8824-1823a8135d93",
   "metadata": {
    "tags": []
   },
   "outputs": [
    {
     "data": {
      "text/html": [
       "<div>\n",
       "<style scoped>\n",
       "    .dataframe tbody tr th:only-of-type {\n",
       "        vertical-align: middle;\n",
       "    }\n",
       "\n",
       "    .dataframe tbody tr th {\n",
       "        vertical-align: top;\n",
       "    }\n",
       "\n",
       "    .dataframe thead th {\n",
       "        text-align: right;\n",
       "    }\n",
       "</style>\n",
       "<table border=\"1\" class=\"dataframe\">\n",
       "  <thead>\n",
       "    <tr style=\"text-align: right;\">\n",
       "      <th></th>\n",
       "      <th>Lookup_Value</th>\n",
       "      <th>co_benefit_type</th>\n",
       "      <th>HHs</th>\n",
       "      <th>2025</th>\n",
       "      <th>2026</th>\n",
       "      <th>2027</th>\n",
       "      <th>2028</th>\n",
       "      <th>2029</th>\n",
       "      <th>2030</th>\n",
       "      <th>2031</th>\n",
       "      <th>...</th>\n",
       "      <th>2043</th>\n",
       "      <th>2044</th>\n",
       "      <th>2045</th>\n",
       "      <th>2046</th>\n",
       "      <th>2047</th>\n",
       "      <th>2048</th>\n",
       "      <th>2049</th>\n",
       "      <th>2050</th>\n",
       "      <th>scenario</th>\n",
       "      <th>total</th>\n",
       "    </tr>\n",
       "  </thead>\n",
       "  <tbody>\n",
       "    <tr>\n",
       "      <th>0</th>\n",
       "      <td>N20002754</td>\n",
       "      <td>Air quality</td>\n",
       "      <td>138</td>\n",
       "      <td>0.001385</td>\n",
       "      <td>0.001690</td>\n",
       "      <td>0.002179</td>\n",
       "      <td>0.002650</td>\n",
       "      <td>0.002931</td>\n",
       "      <td>0.002957</td>\n",
       "      <td>0.003004</td>\n",
       "      <td>...</td>\n",
       "      <td>0.003301</td>\n",
       "      <td>0.003274</td>\n",
       "      <td>0.003256</td>\n",
       "      <td>0.003240</td>\n",
       "      <td>0.003194</td>\n",
       "      <td>0.003144</td>\n",
       "      <td>0.003091</td>\n",
       "      <td>0.003035</td>\n",
       "      <td>BNZ</td>\n",
       "      <td>0.078800</td>\n",
       "    </tr>\n",
       "    <tr>\n",
       "      <th>1</th>\n",
       "      <td>N20002754</td>\n",
       "      <td>Noise</td>\n",
       "      <td>138</td>\n",
       "      <td>0.000150</td>\n",
       "      <td>0.000145</td>\n",
       "      <td>0.000140</td>\n",
       "      <td>0.000135</td>\n",
       "      <td>0.000775</td>\n",
       "      <td>0.001122</td>\n",
       "      <td>0.001103</td>\n",
       "      <td>...</td>\n",
       "      <td>0.001135</td>\n",
       "      <td>0.001113</td>\n",
       "      <td>0.001176</td>\n",
       "      <td>0.001152</td>\n",
       "      <td>0.001128</td>\n",
       "      <td>0.001105</td>\n",
       "      <td>0.001082</td>\n",
       "      <td>0.001066</td>\n",
       "      <td>BNZ</td>\n",
       "      <td>0.024294</td>\n",
       "    </tr>\n",
       "    <tr>\n",
       "      <th>2</th>\n",
       "      <td>N20002754</td>\n",
       "      <td>Congestion</td>\n",
       "      <td>138</td>\n",
       "      <td>0.001159</td>\n",
       "      <td>0.001048</td>\n",
       "      <td>0.000942</td>\n",
       "      <td>0.000893</td>\n",
       "      <td>0.000496</td>\n",
       "      <td>0.000303</td>\n",
       "      <td>0.000562</td>\n",
       "      <td>...</td>\n",
       "      <td>0.004094</td>\n",
       "      <td>0.004525</td>\n",
       "      <td>0.005711</td>\n",
       "      <td>0.006177</td>\n",
       "      <td>0.006654</td>\n",
       "      <td>0.007142</td>\n",
       "      <td>0.007495</td>\n",
       "      <td>0.009113</td>\n",
       "      <td>BNZ</td>\n",
       "      <td>0.073969</td>\n",
       "    </tr>\n",
       "    <tr>\n",
       "      <th>3</th>\n",
       "      <td>N20002754</td>\n",
       "      <td>Road repairs</td>\n",
       "      <td>138</td>\n",
       "      <td>0.001225</td>\n",
       "      <td>0.001336</td>\n",
       "      <td>0.001490</td>\n",
       "      <td>0.001566</td>\n",
       "      <td>0.001567</td>\n",
       "      <td>0.001773</td>\n",
       "      <td>0.001761</td>\n",
       "      <td>...</td>\n",
       "      <td>0.001218</td>\n",
       "      <td>0.001152</td>\n",
       "      <td>0.001249</td>\n",
       "      <td>0.001201</td>\n",
       "      <td>0.001212</td>\n",
       "      <td>0.001128</td>\n",
       "      <td>0.001125</td>\n",
       "      <td>0.001155</td>\n",
       "      <td>BNZ</td>\n",
       "      <td>0.035724</td>\n",
       "    </tr>\n",
       "    <tr>\n",
       "      <th>4</th>\n",
       "      <td>N20002754</td>\n",
       "      <td>Road safety</td>\n",
       "      <td>138</td>\n",
       "      <td>0.000333</td>\n",
       "      <td>0.000236</td>\n",
       "      <td>0.000191</td>\n",
       "      <td>0.000145</td>\n",
       "      <td>-0.000006</td>\n",
       "      <td>-0.000065</td>\n",
       "      <td>-0.000082</td>\n",
       "      <td>...</td>\n",
       "      <td>0.001388</td>\n",
       "      <td>0.001611</td>\n",
       "      <td>0.002129</td>\n",
       "      <td>0.002397</td>\n",
       "      <td>0.002670</td>\n",
       "      <td>0.002907</td>\n",
       "      <td>0.003154</td>\n",
       "      <td>0.003674</td>\n",
       "      <td>BNZ</td>\n",
       "      <td>0.024474</td>\n",
       "    </tr>\n",
       "  </tbody>\n",
       "</table>\n",
       "<p>5 rows × 31 columns</p>\n",
       "</div>"
      ],
      "text/plain": [
       "  Lookup_Value co_benefit_type  HHs      2025      2026      2027      2028  \\\n",
       "0    N20002754     Air quality  138  0.001385  0.001690  0.002179  0.002650   \n",
       "1    N20002754           Noise  138  0.000150  0.000145  0.000140  0.000135   \n",
       "2    N20002754      Congestion  138  0.001159  0.001048  0.000942  0.000893   \n",
       "3    N20002754    Road repairs  138  0.001225  0.001336  0.001490  0.001566   \n",
       "4    N20002754     Road safety  138  0.000333  0.000236  0.000191  0.000145   \n",
       "\n",
       "       2029      2030      2031  ...      2043      2044      2045      2046  \\\n",
       "0  0.002931  0.002957  0.003004  ...  0.003301  0.003274  0.003256  0.003240   \n",
       "1  0.000775  0.001122  0.001103  ...  0.001135  0.001113  0.001176  0.001152   \n",
       "2  0.000496  0.000303  0.000562  ...  0.004094  0.004525  0.005711  0.006177   \n",
       "3  0.001567  0.001773  0.001761  ...  0.001218  0.001152  0.001249  0.001201   \n",
       "4 -0.000006 -0.000065 -0.000082  ...  0.001388  0.001611  0.002129  0.002397   \n",
       "\n",
       "       2047      2048      2049      2050  scenario     total  \n",
       "0  0.003194  0.003144  0.003091  0.003035       BNZ  0.078800  \n",
       "1  0.001128  0.001105  0.001082  0.001066       BNZ  0.024294  \n",
       "2  0.006654  0.007142  0.007495  0.009113       BNZ  0.073969  \n",
       "3  0.001212  0.001128  0.001125  0.001155       BNZ  0.035724  \n",
       "4  0.002670  0.002907  0.003154  0.003674       BNZ  0.024474  \n",
       "\n",
       "[5 rows x 31 columns]"
      ]
     },
     "execution_count": 10,
     "metadata": {},
     "output_type": "execute_result"
    }
   ],
   "source": [
    "df.head()"
   ]
  },
  {
   "cell_type": "code",
   "execution_count": 11,
   "id": "6c232e4d-cb45-472d-a8e3-c0c56858b7b8",
   "metadata": {
    "tags": []
   },
   "outputs": [
    {
     "data": {
      "text/plain": [
       "-8.116110801696777"
      ]
     },
     "execution_count": 11,
     "metadata": {},
     "output_type": "execute_result"
    }
   ],
   "source": [
    "np.min(df.total)"
   ]
  },
  {
   "cell_type": "code",
   "execution_count": 12,
   "id": "aeb3e6f2-c46c-4167-ab95-9bce8a9708e7",
   "metadata": {
    "tags": []
   },
   "outputs": [
    {
     "data": {
      "text/plain": [
       "36.776371002197266"
      ]
     },
     "execution_count": 12,
     "metadata": {},
     "output_type": "execute_result"
    }
   ],
   "source": [
    "np.max(df.total)"
   ]
  },
  {
   "cell_type": "code",
   "execution_count": 13,
   "id": "ef1739ff-c1e3-4733-b172-fa4e841d02ad",
   "metadata": {
    "tags": []
   },
   "outputs": [
    {
     "data": {
      "text/plain": [
       "Lookup_Value        object\n",
       "co_benefit_type     object\n",
       "HHs                  int64\n",
       "2025               float32\n",
       "2026               float32\n",
       "2027               float32\n",
       "2028               float32\n",
       "2029               float32\n",
       "2030               float32\n",
       "2031               float32\n",
       "2032               float32\n",
       "2033               float32\n",
       "2034               float32\n",
       "2035               float32\n",
       "2036               float32\n",
       "2037               float32\n",
       "2038               float32\n",
       "2039               float32\n",
       "2040               float32\n",
       "2041               float32\n",
       "2042               float32\n",
       "2043               float32\n",
       "2044               float32\n",
       "2045               float32\n",
       "2046               float32\n",
       "2047               float32\n",
       "2048               float32\n",
       "2049               float32\n",
       "2050               float32\n",
       "scenario            object\n",
       "total              float32\n",
       "dtype: object"
      ]
     },
     "execution_count": 13,
     "metadata": {},
     "output_type": "execute_result"
    }
   ],
   "source": [
    "df.dtypes"
   ]
  },
  {
   "cell_type": "markdown",
   "id": "e41aaa6c-f1cb-47df-a49d-6bb85b3f305a",
   "metadata": {},
   "source": [
    "## Aggregating the time"
   ]
  },
  {
   "cell_type": "code",
   "execution_count": 14,
   "id": "d1c4794e-76b8-4371-90e7-4c84bfa5ad6f",
   "metadata": {
    "tags": []
   },
   "outputs": [],
   "source": [
    "# Number of years merging\n",
    "time_step = 5"
   ]
  },
  {
   "cell_type": "code",
   "execution_count": 15,
   "id": "29a08080-674d-46e8-b5f5-55a7427b2141",
   "metadata": {
    "tags": []
   },
   "outputs": [],
   "source": [
    "years = list(range( 2025, 2051 ))\n",
    "#years"
   ]
  },
  {
   "cell_type": "code",
   "execution_count": 16,
   "id": "c270ec02-e552-4d9d-8c12-9a86ff0a1ea5",
   "metadata": {
    "tags": []
   },
   "outputs": [
    {
     "data": {
      "text/html": [
       "<div>\n",
       "<style scoped>\n",
       "    .dataframe tbody tr th:only-of-type {\n",
       "        vertical-align: middle;\n",
       "    }\n",
       "\n",
       "    .dataframe tbody tr th {\n",
       "        vertical-align: top;\n",
       "    }\n",
       "\n",
       "    .dataframe thead th {\n",
       "        text-align: right;\n",
       "    }\n",
       "</style>\n",
       "<table border=\"1\" class=\"dataframe\">\n",
       "  <thead>\n",
       "    <tr style=\"text-align: right;\">\n",
       "      <th></th>\n",
       "      <th>2025</th>\n",
       "      <th>2026</th>\n",
       "    </tr>\n",
       "  </thead>\n",
       "  <tbody>\n",
       "    <tr>\n",
       "      <th>0</th>\n",
       "      <td>1.385182e-03</td>\n",
       "      <td>1.690344e-03</td>\n",
       "    </tr>\n",
       "    <tr>\n",
       "      <th>1</th>\n",
       "      <td>1.500760e-04</td>\n",
       "      <td>1.450010e-04</td>\n",
       "    </tr>\n",
       "    <tr>\n",
       "      <th>2</th>\n",
       "      <td>1.159192e-03</td>\n",
       "      <td>1.048197e-03</td>\n",
       "    </tr>\n",
       "    <tr>\n",
       "      <th>3</th>\n",
       "      <td>1.224684e-03</td>\n",
       "      <td>1.336258e-03</td>\n",
       "    </tr>\n",
       "    <tr>\n",
       "      <th>4</th>\n",
       "      <td>3.331220e-04</td>\n",
       "      <td>2.359090e-04</td>\n",
       "    </tr>\n",
       "    <tr>\n",
       "      <th>...</th>\n",
       "      <td>...</td>\n",
       "      <td>...</td>\n",
       "    </tr>\n",
       "    <tr>\n",
       "      <th>557107</th>\n",
       "      <td>2.291570e-05</td>\n",
       "      <td>4.952560e-05</td>\n",
       "    </tr>\n",
       "    <tr>\n",
       "      <th>557108</th>\n",
       "      <td>1.056140e-09</td>\n",
       "      <td>-3.498470e-09</td>\n",
       "    </tr>\n",
       "    <tr>\n",
       "      <th>557109</th>\n",
       "      <td>1.980370e-07</td>\n",
       "      <td>1.673210e-05</td>\n",
       "    </tr>\n",
       "    <tr>\n",
       "      <th>557110</th>\n",
       "      <td>3.025683e-02</td>\n",
       "      <td>4.961723e-02</td>\n",
       "    </tr>\n",
       "    <tr>\n",
       "      <th>557111</th>\n",
       "      <td>4.155347e-02</td>\n",
       "      <td>6.221105e-02</td>\n",
       "    </tr>\n",
       "  </tbody>\n",
       "</table>\n",
       "<p>1114224 rows × 2 columns</p>\n",
       "</div>"
      ],
      "text/plain": [
       "                2025          2026\n",
       "0       1.385182e-03  1.690344e-03\n",
       "1       1.500760e-04  1.450010e-04\n",
       "2       1.159192e-03  1.048197e-03\n",
       "3       1.224684e-03  1.336258e-03\n",
       "4       3.331220e-04  2.359090e-04\n",
       "...              ...           ...\n",
       "557107  2.291570e-05  4.952560e-05\n",
       "557108  1.056140e-09 -3.498470e-09\n",
       "557109  1.980370e-07  1.673210e-05\n",
       "557110  3.025683e-02  4.961723e-02\n",
       "557111  4.155347e-02  6.221105e-02\n",
       "\n",
       "[1114224 rows x 2 columns]"
      ]
     },
     "execution_count": 16,
     "metadata": {},
     "output_type": "execute_result"
    }
   ],
   "source": [
    "df[[\"2025\", \"2026\"]]"
   ]
  },
  {
   "cell_type": "code",
   "execution_count": 17,
   "id": "336c3625-2d6b-4989-8853-42d2b94e17a8",
   "metadata": {
    "tags": []
   },
   "outputs": [
    {
     "name": "stdout",
     "output_type": "stream",
     "text": [
      "['2025', '2026', '2027', '2028', '2029']\n",
      "['2030', '2031', '2032', '2033', '2034']\n",
      "['2035', '2036', '2037', '2038', '2039']\n",
      "['2040', '2041', '2042', '2043', '2044']\n",
      "['2045', '2046', '2047', '2048', '2049']\n"
     ]
    }
   ],
   "source": [
    "for i in range(0, len(years) - ( time_step - 1), time_step):\n",
    "    window_years = [str(year) for year in years[i:i+5]]\n",
    "    print(window_years)\n",
    "    window_sum = df[window_years].sum(axis=1)\n",
    "    df[f'{window_years[0]}_{window_years[-1]}'] = window_sum"
   ]
  },
  {
   "cell_type": "code",
   "execution_count": 18,
   "id": "1420aee3-554f-4ccc-b034-e4675bbf609f",
   "metadata": {
    "tags": []
   },
   "outputs": [
    {
     "data": {
      "text/html": [
       "<div>\n",
       "<style scoped>\n",
       "    .dataframe tbody tr th:only-of-type {\n",
       "        vertical-align: middle;\n",
       "    }\n",
       "\n",
       "    .dataframe tbody tr th {\n",
       "        vertical-align: top;\n",
       "    }\n",
       "\n",
       "    .dataframe thead th {\n",
       "        text-align: right;\n",
       "    }\n",
       "</style>\n",
       "<table border=\"1\" class=\"dataframe\">\n",
       "  <thead>\n",
       "    <tr style=\"text-align: right;\">\n",
       "      <th></th>\n",
       "      <th>2025</th>\n",
       "      <th>2026</th>\n",
       "      <th>2027</th>\n",
       "      <th>2028</th>\n",
       "      <th>2029</th>\n",
       "      <th>2025_2029</th>\n",
       "    </tr>\n",
       "  </thead>\n",
       "  <tbody>\n",
       "    <tr>\n",
       "      <th>0</th>\n",
       "      <td>1.385182e-03</td>\n",
       "      <td>1.690344e-03</td>\n",
       "      <td>2.178994e-03</td>\n",
       "      <td>2.650430e-03</td>\n",
       "      <td>2.930518e-03</td>\n",
       "      <td>1.083547e-02</td>\n",
       "    </tr>\n",
       "    <tr>\n",
       "      <th>1</th>\n",
       "      <td>1.500760e-04</td>\n",
       "      <td>1.450010e-04</td>\n",
       "      <td>1.400980e-04</td>\n",
       "      <td>1.353600e-04</td>\n",
       "      <td>7.749510e-04</td>\n",
       "      <td>1.345486e-03</td>\n",
       "    </tr>\n",
       "    <tr>\n",
       "      <th>2</th>\n",
       "      <td>1.159192e-03</td>\n",
       "      <td>1.048197e-03</td>\n",
       "      <td>9.423430e-04</td>\n",
       "      <td>8.925020e-04</td>\n",
       "      <td>4.963220e-04</td>\n",
       "      <td>4.538556e-03</td>\n",
       "    </tr>\n",
       "    <tr>\n",
       "      <th>3</th>\n",
       "      <td>1.224684e-03</td>\n",
       "      <td>1.336258e-03</td>\n",
       "      <td>1.490412e-03</td>\n",
       "      <td>1.565565e-03</td>\n",
       "      <td>1.567144e-03</td>\n",
       "      <td>7.184063e-03</td>\n",
       "    </tr>\n",
       "    <tr>\n",
       "      <th>4</th>\n",
       "      <td>3.331220e-04</td>\n",
       "      <td>2.359090e-04</td>\n",
       "      <td>1.907570e-04</td>\n",
       "      <td>1.449080e-04</td>\n",
       "      <td>-6.340040e-06</td>\n",
       "      <td>8.983559e-04</td>\n",
       "    </tr>\n",
       "    <tr>\n",
       "      <th>...</th>\n",
       "      <td>...</td>\n",
       "      <td>...</td>\n",
       "      <td>...</td>\n",
       "      <td>...</td>\n",
       "      <td>...</td>\n",
       "      <td>...</td>\n",
       "    </tr>\n",
       "    <tr>\n",
       "      <th>557107</th>\n",
       "      <td>2.291570e-05</td>\n",
       "      <td>4.952560e-05</td>\n",
       "      <td>1.714510e-04</td>\n",
       "      <td>2.048030e-04</td>\n",
       "      <td>2.487060e-04</td>\n",
       "      <td>6.974013e-04</td>\n",
       "    </tr>\n",
       "    <tr>\n",
       "      <th>557108</th>\n",
       "      <td>1.056140e-09</td>\n",
       "      <td>-3.498470e-09</td>\n",
       "      <td>5.135090e-09</td>\n",
       "      <td>-4.754620e-09</td>\n",
       "      <td>-1.398150e-09</td>\n",
       "      <td>-3.460010e-09</td>\n",
       "    </tr>\n",
       "    <tr>\n",
       "      <th>557109</th>\n",
       "      <td>1.980370e-07</td>\n",
       "      <td>1.673210e-05</td>\n",
       "      <td>1.686910e-05</td>\n",
       "      <td>1.030931e-03</td>\n",
       "      <td>1.709860e-05</td>\n",
       "      <td>1.081829e-03</td>\n",
       "    </tr>\n",
       "    <tr>\n",
       "      <th>557110</th>\n",
       "      <td>3.025683e-02</td>\n",
       "      <td>4.961723e-02</td>\n",
       "      <td>6.548754e-02</td>\n",
       "      <td>7.897224e-02</td>\n",
       "      <td>5.226927e-02</td>\n",
       "      <td>2.766031e-01</td>\n",
       "    </tr>\n",
       "    <tr>\n",
       "      <th>557111</th>\n",
       "      <td>4.155347e-02</td>\n",
       "      <td>6.221105e-02</td>\n",
       "      <td>7.894836e-02</td>\n",
       "      <td>9.430924e-02</td>\n",
       "      <td>6.583868e-02</td>\n",
       "      <td>3.428608e-01</td>\n",
       "    </tr>\n",
       "  </tbody>\n",
       "</table>\n",
       "<p>1114224 rows × 6 columns</p>\n",
       "</div>"
      ],
      "text/plain": [
       "                2025          2026          2027          2028          2029  \\\n",
       "0       1.385182e-03  1.690344e-03  2.178994e-03  2.650430e-03  2.930518e-03   \n",
       "1       1.500760e-04  1.450010e-04  1.400980e-04  1.353600e-04  7.749510e-04   \n",
       "2       1.159192e-03  1.048197e-03  9.423430e-04  8.925020e-04  4.963220e-04   \n",
       "3       1.224684e-03  1.336258e-03  1.490412e-03  1.565565e-03  1.567144e-03   \n",
       "4       3.331220e-04  2.359090e-04  1.907570e-04  1.449080e-04 -6.340040e-06   \n",
       "...              ...           ...           ...           ...           ...   \n",
       "557107  2.291570e-05  4.952560e-05  1.714510e-04  2.048030e-04  2.487060e-04   \n",
       "557108  1.056140e-09 -3.498470e-09  5.135090e-09 -4.754620e-09 -1.398150e-09   \n",
       "557109  1.980370e-07  1.673210e-05  1.686910e-05  1.030931e-03  1.709860e-05   \n",
       "557110  3.025683e-02  4.961723e-02  6.548754e-02  7.897224e-02  5.226927e-02   \n",
       "557111  4.155347e-02  6.221105e-02  7.894836e-02  9.430924e-02  6.583868e-02   \n",
       "\n",
       "           2025_2029  \n",
       "0       1.083547e-02  \n",
       "1       1.345486e-03  \n",
       "2       4.538556e-03  \n",
       "3       7.184063e-03  \n",
       "4       8.983559e-04  \n",
       "...              ...  \n",
       "557107  6.974013e-04  \n",
       "557108 -3.460010e-09  \n",
       "557109  1.081829e-03  \n",
       "557110  2.766031e-01  \n",
       "557111  3.428608e-01  \n",
       "\n",
       "[1114224 rows x 6 columns]"
      ]
     },
     "execution_count": 18,
     "metadata": {},
     "output_type": "execute_result"
    }
   ],
   "source": [
    "df[ ['2025', '2026', '2027', '2028', '2029', '2025_2029'] ]"
   ]
  },
  {
   "cell_type": "code",
   "execution_count": 19,
   "id": "332fa248-77b7-4e6c-b78a-bf31e8f7e8ea",
   "metadata": {
    "tags": []
   },
   "outputs": [],
   "source": [
    "# Delete single values columns for space\n",
    "df = df.drop(columns=[str(year) for year in years])"
   ]
  },
  {
   "cell_type": "code",
   "execution_count": 21,
   "id": "a23051a0-3098-44f5-899d-c18bd8cfbd17",
   "metadata": {
    "tags": []
   },
   "outputs": [
    {
     "data": {
      "text/html": [
       "<div>\n",
       "<style scoped>\n",
       "    .dataframe tbody tr th:only-of-type {\n",
       "        vertical-align: middle;\n",
       "    }\n",
       "\n",
       "    .dataframe tbody tr th {\n",
       "        vertical-align: top;\n",
       "    }\n",
       "\n",
       "    .dataframe thead th {\n",
       "        text-align: right;\n",
       "    }\n",
       "</style>\n",
       "<table border=\"1\" class=\"dataframe\">\n",
       "  <thead>\n",
       "    <tr style=\"text-align: right;\">\n",
       "      <th></th>\n",
       "      <th>Lookup_Value</th>\n",
       "      <th>co_benefit_type</th>\n",
       "      <th>HHs</th>\n",
       "      <th>scenario</th>\n",
       "      <th>total</th>\n",
       "      <th>2025_2029</th>\n",
       "      <th>2030_2034</th>\n",
       "      <th>2035_2039</th>\n",
       "      <th>2040_2044</th>\n",
       "      <th>2045_2049</th>\n",
       "    </tr>\n",
       "  </thead>\n",
       "  <tbody>\n",
       "    <tr>\n",
       "      <th>0</th>\n",
       "      <td>N20002754</td>\n",
       "      <td>Air quality</td>\n",
       "      <td>138</td>\n",
       "      <td>BNZ</td>\n",
       "      <td>0.078800</td>\n",
       "      <td>1.083547e-02</td>\n",
       "      <td>1.579314e-02</td>\n",
       "      <td>1.662881e-02</td>\n",
       "      <td>1.658240e-02</td>\n",
       "      <td>0.015926</td>\n",
       "    </tr>\n",
       "    <tr>\n",
       "      <th>1</th>\n",
       "      <td>N20002754</td>\n",
       "      <td>Noise</td>\n",
       "      <td>138</td>\n",
       "      <td>BNZ</td>\n",
       "      <td>0.024294</td>\n",
       "      <td>1.345486e-03</td>\n",
       "      <td>5.424833e-03</td>\n",
       "      <td>5.019896e-03</td>\n",
       "      <td>5.795703e-03</td>\n",
       "      <td>0.005643</td>\n",
       "    </tr>\n",
       "    <tr>\n",
       "      <th>2</th>\n",
       "      <td>N20002754</td>\n",
       "      <td>Congestion</td>\n",
       "      <td>138</td>\n",
       "      <td>BNZ</td>\n",
       "      <td>0.073969</td>\n",
       "      <td>4.538556e-03</td>\n",
       "      <td>2.353550e-03</td>\n",
       "      <td>6.686316e-03</td>\n",
       "      <td>1.809928e-02</td>\n",
       "      <td>0.033179</td>\n",
       "    </tr>\n",
       "    <tr>\n",
       "      <th>3</th>\n",
       "      <td>N20002754</td>\n",
       "      <td>Road repairs</td>\n",
       "      <td>138</td>\n",
       "      <td>BNZ</td>\n",
       "      <td>0.035724</td>\n",
       "      <td>7.184063e-03</td>\n",
       "      <td>8.134300e-03</td>\n",
       "      <td>6.970303e-03</td>\n",
       "      <td>6.364777e-03</td>\n",
       "      <td>0.005915</td>\n",
       "    </tr>\n",
       "    <tr>\n",
       "      <th>4</th>\n",
       "      <td>N20002754</td>\n",
       "      <td>Road safety</td>\n",
       "      <td>138</td>\n",
       "      <td>BNZ</td>\n",
       "      <td>0.024474</td>\n",
       "      <td>8.983559e-04</td>\n",
       "      <td>-4.291618e-04</td>\n",
       "      <td>1.177130e-03</td>\n",
       "      <td>5.895786e-03</td>\n",
       "      <td>0.013257</td>\n",
       "    </tr>\n",
       "    <tr>\n",
       "      <th>...</th>\n",
       "      <td>...</td>\n",
       "      <td>...</td>\n",
       "      <td>...</td>\n",
       "      <td>...</td>\n",
       "      <td>...</td>\n",
       "      <td>...</td>\n",
       "      <td>...</td>\n",
       "      <td>...</td>\n",
       "      <td>...</td>\n",
       "      <td>...</td>\n",
       "    </tr>\n",
       "    <tr>\n",
       "      <th>557107</th>\n",
       "      <td>E01006270</td>\n",
       "      <td>Excess cold</td>\n",
       "      <td>634</td>\n",
       "      <td>test</td>\n",
       "      <td>0.067316</td>\n",
       "      <td>6.974013e-04</td>\n",
       "      <td>3.640958e-03</td>\n",
       "      <td>9.472585e-03</td>\n",
       "      <td>1.292229e-02</td>\n",
       "      <td>0.033151</td>\n",
       "    </tr>\n",
       "    <tr>\n",
       "      <th>557108</th>\n",
       "      <td>E01006270</td>\n",
       "      <td>Excess heat</td>\n",
       "      <td>634</td>\n",
       "      <td>test</td>\n",
       "      <td>0.000004</td>\n",
       "      <td>-3.460010e-09</td>\n",
       "      <td>3.990457e-08</td>\n",
       "      <td>2.369654e-07</td>\n",
       "      <td>4.301994e-07</td>\n",
       "      <td>0.000002</td>\n",
       "    </tr>\n",
       "    <tr>\n",
       "      <th>557109</th>\n",
       "      <td>E01006270</td>\n",
       "      <td>Dampness</td>\n",
       "      <td>634</td>\n",
       "      <td>test</td>\n",
       "      <td>0.042894</td>\n",
       "      <td>1.081829e-03</td>\n",
       "      <td>1.509561e-03</td>\n",
       "      <td>5.385307e-03</td>\n",
       "      <td>5.312776e-03</td>\n",
       "      <td>0.024086</td>\n",
       "    </tr>\n",
       "    <tr>\n",
       "      <th>557110</th>\n",
       "      <td>E01006270</td>\n",
       "      <td>Diet change</td>\n",
       "      <td>634</td>\n",
       "      <td>test</td>\n",
       "      <td>0.985556</td>\n",
       "      <td>2.766031e-01</td>\n",
       "      <td>1.806432e-01</td>\n",
       "      <td>1.680467e-01</td>\n",
       "      <td>1.686495e-01</td>\n",
       "      <td>0.169386</td>\n",
       "    </tr>\n",
       "    <tr>\n",
       "      <th>557111</th>\n",
       "      <td>E01006270</td>\n",
       "      <td>Total</td>\n",
       "      <td>634</td>\n",
       "      <td>test</td>\n",
       "      <td>1.220552</td>\n",
       "      <td>3.428608e-01</td>\n",
       "      <td>2.404828e-01</td>\n",
       "      <td>2.018971e-01</td>\n",
       "      <td>1.845355e-01</td>\n",
       "      <td>0.217444</td>\n",
       "    </tr>\n",
       "  </tbody>\n",
       "</table>\n",
       "<p>1114224 rows × 10 columns</p>\n",
       "</div>"
      ],
      "text/plain": [
       "       Lookup_Value co_benefit_type  HHs scenario     total     2025_2029  \\\n",
       "0         N20002754     Air quality  138      BNZ  0.078800  1.083547e-02   \n",
       "1         N20002754           Noise  138      BNZ  0.024294  1.345486e-03   \n",
       "2         N20002754      Congestion  138      BNZ  0.073969  4.538556e-03   \n",
       "3         N20002754    Road repairs  138      BNZ  0.035724  7.184063e-03   \n",
       "4         N20002754     Road safety  138      BNZ  0.024474  8.983559e-04   \n",
       "...             ...             ...  ...      ...       ...           ...   \n",
       "557107    E01006270     Excess cold  634     test  0.067316  6.974013e-04   \n",
       "557108    E01006270     Excess heat  634     test  0.000004 -3.460010e-09   \n",
       "557109    E01006270        Dampness  634     test  0.042894  1.081829e-03   \n",
       "557110    E01006270     Diet change  634     test  0.985556  2.766031e-01   \n",
       "557111    E01006270           Total  634     test  1.220552  3.428608e-01   \n",
       "\n",
       "           2030_2034     2035_2039     2040_2044  2045_2049  \n",
       "0       1.579314e-02  1.662881e-02  1.658240e-02   0.015926  \n",
       "1       5.424833e-03  5.019896e-03  5.795703e-03   0.005643  \n",
       "2       2.353550e-03  6.686316e-03  1.809928e-02   0.033179  \n",
       "3       8.134300e-03  6.970303e-03  6.364777e-03   0.005915  \n",
       "4      -4.291618e-04  1.177130e-03  5.895786e-03   0.013257  \n",
       "...              ...           ...           ...        ...  \n",
       "557107  3.640958e-03  9.472585e-03  1.292229e-02   0.033151  \n",
       "557108  3.990457e-08  2.369654e-07  4.301994e-07   0.000002  \n",
       "557109  1.509561e-03  5.385307e-03  5.312776e-03   0.024086  \n",
       "557110  1.806432e-01  1.680467e-01  1.686495e-01   0.169386  \n",
       "557111  2.404828e-01  2.018971e-01  1.845355e-01   0.217444  \n",
       "\n",
       "[1114224 rows x 10 columns]"
      ]
     },
     "execution_count": 21,
     "metadata": {},
     "output_type": "execute_result"
    }
   ],
   "source": [
    "df"
   ]
  },
  {
   "cell_type": "code",
   "execution_count": 22,
   "id": "01b85a0c-4fc0-49e1-a21e-ed4277a99fbd",
   "metadata": {
    "tags": []
   },
   "outputs": [
    {
     "data": {
      "text/plain": [
       "Lookup_Value        object\n",
       "co_benefit_type     object\n",
       "HHs                  int64\n",
       "scenario            object\n",
       "total              float32\n",
       "2025_2029          float32\n",
       "2030_2034          float32\n",
       "2035_2039          float32\n",
       "2040_2044          float32\n",
       "2045_2049          float32\n",
       "dtype: object"
      ]
     },
     "execution_count": 22,
     "metadata": {},
     "output_type": "execute_result"
    }
   ],
   "source": [
    "df.dtypes"
   ]
  },
  {
   "cell_type": "markdown",
   "id": "4843be81-f572-402e-abcb-f38da4882bdc",
   "metadata": {},
   "source": [
    "## Export table as parquet file"
   ]
  },
  {
   "cell_type": "code",
   "execution_count": 21,
   "id": "632bae0c-b4af-438a-b3f9-f8693e8ca3cc",
   "metadata": {
    "tags": []
   },
   "outputs": [
    {
     "name": "stderr",
     "output_type": "stream",
     "text": [
      "/Users/apister/anaconda3/lib/python3.11/site-packages/pyarrow/pandas_compat.py:373: FutureWarning: is_sparse is deprecated and will be removed in a future version. Check `isinstance(dtype, pd.SparseDtype)` instead.\n",
      "  if _pandas_api.is_sparse(col):\n"
     ]
    }
   ],
   "source": [
    "df.to_parquet('static/database.parquet')"
   ]
  },
  {
   "cell_type": "markdown",
   "id": "591459b8-882e-4eac-8eff-d5cc1727a43d",
   "metadata": {},
   "source": [
    "## Create Duckdb instance"
   ]
  },
  {
   "cell_type": "markdown",
   "id": "a58ce846-a784-48bf-8e06-f551e64df20b",
   "metadata": {},
   "source": [
    "The parquet file is currently used in the frontend as the .duckdb file was causing error. This part is therefore not useful for now"
   ]
  },
  {
   "cell_type": "code",
   "execution_count": 42,
   "id": "f13f7e16-5a3b-4327-b20d-4e3e4c565998",
   "metadata": {
    "tags": []
   },
   "outputs": [],
   "source": [
    "DB_FILE_PATH = 'static/database.duckdb'\n",
    "TABLE_NAME = \"cobenefits\""
   ]
  },
  {
   "cell_type": "code",
   "execution_count": 43,
   "id": "7f5d5340-4b72-4ece-96ab-34fbab16cee2",
   "metadata": {
    "tags": []
   },
   "outputs": [],
   "source": [
    "con = duckdb.connect(DB_FILE_PATH)"
   ]
  },
  {
   "cell_type": "code",
   "execution_count": 46,
   "id": "a62a2b30-516c-4a8b-a50c-a7ec3b6c5c72",
   "metadata": {
    "tags": []
   },
   "outputs": [
    {
     "name": "stdout",
     "output_type": "stream",
     "text": [
      "Sample data:\n",
      "[('N20002754', 'Air quality', 138, 0.001385182, 0.001690344, 0.002178994, 0.00265043, 0.002930518, 0.002957105, 0.003004358, 0.003154786, 0.003284162, 0.003392733, 0.003309062, 0.003258978, 0.003316478, 0.003358668, 0.00338563, 0.003360311, 0.003329033, 0.00331858, 0.003300776, 0.003273695, 0.003256345, 0.003240189, 0.00319424, 0.003143862, 0.003091112, 0.00303487, 'BNZ', 0.078800441), ('N20002754', 'Noise', 138, 0.000150076, 0.000145001, 0.000140098, 0.00013536, 0.000774951, 0.001122295, 0.001103271, 0.001084611, 0.001066307, 0.001048349, 0.001038151, 0.001020742, 0.001003659, 0.000986897, 0.000970447, 0.001206611, 0.001182306, 0.001158578, 0.001135413, 0.001112795, 0.001176065, 0.001151699, 0.00112793, 0.00110474, 0.001082113, 0.00106603, 'BNZ', 0.024294494999999996), ('N20002754', 'Congestion', 138, 0.001159192, 0.001048197, 0.000942343, 0.000892502, 0.000496322, 0.000302559, 0.000561585, 0.000513852, 0.000433189, 0.000542365, 0.001034313, 0.001105454, 0.001294352, 0.00146757, 0.001784627, 0.002834727, 0.003107189, 0.00353849, 0.004093741, 0.004525135, 0.005711466, 0.006177229, 0.006653652, 0.007141547, 0.007494763, 0.009112811, 'BNZ', 0.073969172), ('N20002754', 'Road repairs', 138, 0.001224684, 0.001336258, 0.001490412, 0.001565565, 0.001567144, 0.001772819, 0.001761462, 0.001596541, 0.001507778, 0.0014957, 0.0015104, 0.001492426, 0.001361141, 0.001336859, 0.001269477, 0.001371083, 0.001308508, 0.001314996, 0.00121776, 0.00115243, 0.001249037, 0.0012009, 0.001212103, 0.001128329, 0.001124978, 0.001155223, 'BNZ', 0.03572401299999999), ('N20002754', 'Road safety', 138, 0.000333122, 0.000235909, 0.000190757, 0.000144908, -6.34004e-06, -6.45783e-05, -8.22135e-05, -0.000124405, -0.000124197, -3.3768e-05, 8.43615e-05, 0.000135322, 0.000198054, 0.000301303, 0.00045809, 0.000769121, 0.000948856, 0.001179002, 0.00138805, 0.001610757, 0.002128564, 0.00239733, 0.002670094, 0.002906877, 0.0031541, 0.003674431, 'BNZ', 0.024473506659999998)]\n",
      "\n",
      "Table schema:\n",
      "Lookup_Value: VARCHAR\n",
      "co_benefit_type: VARCHAR\n",
      "HHs: BIGINT\n",
      "2025 (£m): DOUBLE\n",
      "2026 (£m): DOUBLE\n",
      "2027 (£m): DOUBLE\n",
      "2028 (£m): DOUBLE\n",
      "2029 (£m): DOUBLE\n",
      "2030 (£m): DOUBLE\n",
      "2031 (£m): DOUBLE\n",
      "2032 (£m): DOUBLE\n",
      "2033 (£m): DOUBLE\n",
      "2034 (£m): DOUBLE\n",
      "2035 (£m): DOUBLE\n",
      "2036 (£m): DOUBLE\n",
      "2037 (£m): DOUBLE\n",
      "2038 (£m): DOUBLE\n",
      "2039 (£m): DOUBLE\n",
      "2040 (£m): DOUBLE\n",
      "2041 (£m): DOUBLE\n",
      "2042 (£m): DOUBLE\n",
      "2043 (£m): DOUBLE\n",
      "2044 (£m): DOUBLE\n",
      "2045 (£m): DOUBLE\n",
      "2046 (£m): DOUBLE\n",
      "2047 (£m): DOUBLE\n",
      "2048 (£m): DOUBLE\n",
      "2049 (£m): DOUBLE\n",
      "2050 (£m): DOUBLE\n",
      "scenario: VARCHAR\n",
      "total (£m): DOUBLE\n",
      "\n",
      "Database created and saved to: static/database.duckdb\n"
     ]
    }
   ],
   "source": [
    "# Create table and insert data\n",
    "con.execute(f\"DROP TABLE {TABLE_NAME}\")\n",
    "\n",
    "# Create table and insert data\n",
    "con.execute(f\"CREATE TABLE {TABLE_NAME} AS SELECT * FROM df\")\n",
    "\n",
    "# Verify data\n",
    "result = con.execute(f\"SELECT * FROM {TABLE_NAME} LIMIT 5\").fetchall()\n",
    "print(\"Sample data:\")\n",
    "print(result)\n",
    "\n",
    "# Get and print schema\n",
    "schema = con.execute(f\"DESCRIBE {TABLE_NAME}\").fetchall()\n",
    "print(\"\\nTable schema:\")\n",
    "for column in schema:\n",
    "    print(f\"{column[0]}: {column[1]}\")\n",
    "\n",
    "print(f\"\\nDatabase created and saved to: {DB_FILE_PATH}\")"
   ]
  },
  {
   "cell_type": "code",
   "execution_count": null,
   "id": "f701798a-0a27-4e1a-821d-553362fb81ce",
   "metadata": {},
   "outputs": [],
   "source": []
  }
 ],
 "metadata": {
  "kernelspec": {
   "display_name": "Python 3 (ipykernel)",
   "language": "python",
   "name": "python3"
  },
  "language_info": {
   "codemirror_mode": {
    "name": "ipython",
    "version": 3
   },
   "file_extension": ".py",
   "mimetype": "text/x-python",
   "name": "python",
   "nbconvert_exporter": "python",
   "pygments_lexer": "ipython3",
   "version": "3.11.5"
  }
 },
 "nbformat": 4,
 "nbformat_minor": 5
}
