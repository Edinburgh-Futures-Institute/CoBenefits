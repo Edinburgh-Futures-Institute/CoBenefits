import pandas as pd
import numpy as np
import duckdb


data_folder = "staticNotDeployed/"
static_folder = "static/"


scenario_BNZ_path = "simulations_new/BNZ.csv"
scenario_holder_path = "simulations_new/BNZ.csv"

socio_factors_path = "UK_Archetypes_global_measures.csv"

all_scenarios = [scenario_BNZ_path, scenario_holder_path]
scenario_names = ["BNZ", "test"]





df_socio = pd.read_csv(static_folder+socio_factors_path)


# Remove one row on NaN
df_socio = df_socio.dropna()


df_socio = df_socio.convert_dtypes()


df_socio


df_socio.dtypes


df_socio = df_socio.astype({'EPC': 'string', 'Unemployment': 'float', 'Gas.flag': 'string'})


df_socio["Gas.flag"]


dfs = []
for i, scenario in enumerate(all_scenarios):
    df_one_scenario = pd.read_csv(data_folder + scenario)
    df_one_scenario["scenario"] = scenario_names[i]
    dfs.append(df_one_scenario)
df = pd.concat(dfs, axis=0)
del dfs 


# Create total column
df["total (£m)"] = df[ [ f'{i} (£m)' for i in range(2025, 2051)]].sum(axis=1)


# Delete all the columns per hh, only keep total value columns
df = df.drop(columns=[ f'{i} (£/hh)' for i in range(2025, 2051)])


# Convert float64 to float32
df[df.select_dtypes(np.float64).columns] = df.select_dtypes(np.float64).astype(np.float32)


# Rename columns so it does not contain special characters
df.columns = df.columns.str.replace(' (£m)', '')


# Rename columns: replace spaces with underscores
# df.columns = df.columns.str.replace(' ', '_')


df.head()


np.min(df.total)


np.max(df.total)


df.dtypes





df = pd.merge(df, df_socio, left_on='Lookup_Value', right_on='LSOA.DZ.CD', how='inner')


df.head()





# Number of years merging
time_step = 5


years = list(range( 2025, 2051 ))
#years


df[["2025", "2026"]]


for i in range(0, len(years) - ( time_step - 1), time_step):
    window_years = [str(year) for year in years[i:i+5]]
    print(window_years)
    window_sum = df[window_years].sum(axis=1)
    df[f'{window_years[0]}_{window_years[-1]}'] = window_sum


df[ ['2025', '2026', '2027', '2028', '2029', '2025_2029'] ]


# Delete single values columns for space
df = df.drop(columns=[str(year) for year in years])


df


df.dtypes





df.to_parquet('static/database.parquet')


df_socio.to_parquet('static/tableSocio.parquet')








DB_FILE_PATH = 'static/database.duckdb'
TABLE_NAME = "cobenefits"


con = duckdb.connect(DB_FILE_PATH)


# Create table and insert data
con.execute(f"DROP TABLE {TABLE_NAME}")

# Create table and insert data
con.execute(f"CREATE TABLE {TABLE_NAME} AS SELECT * FROM df")

# Verify data
result = con.execute(f"SELECT * FROM {TABLE_NAME} LIMIT 5").fetchall()
print("Sample data:")
print(result)

# Get and print schema
schema = con.execute(f"DESCRIBE {TABLE_NAME}").fetchall()
print("\nTable schema:")
for column in schema:
    print(f"{column[0]}: {column[1]}")

print(f"\nDatabase created and saved to: {DB_FILE_PATH}")



